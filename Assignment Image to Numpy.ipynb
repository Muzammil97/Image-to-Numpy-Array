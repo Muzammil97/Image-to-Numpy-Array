{
 "cells": [
  {
   "cell_type": "code",
   "execution_count": 11,
   "metadata": {},
   "outputs": [
    {
     "name": "stdout",
     "output_type": "stream",
     "text": [
      "\n",
      "Orignal Shape Array (2160, 3840, 3)\n",
      "Resize Shape Array (200, 200, 3)\n",
      "\n",
      "Orignal Shape Array (2160, 3840, 3)\n",
      "Resize Shape Array (200, 200, 3)\n",
      "\n",
      "Orignal Shape Array (1200, 1920, 3)\n",
      "Resize Shape Array (200, 200, 3)\n",
      "\n",
      "Orignal Shape Array (2160, 3840, 3)\n",
      "Resize Shape Array (200, 200, 3)\n",
      "\n",
      "Orignal Shape Array (1686, 3000, 3)\n",
      "Resize Shape Array (200, 200, 3)\n",
      "\n",
      "Orignal Shape Array (2160, 3840, 3)\n",
      "Resize Shape Array (200, 200, 3)\n",
      "\n",
      "Orignal Shape Array (1600, 2560, 3)\n",
      "Resize Shape Array (200, 200, 3)\n",
      "\n",
      "Orignal Shape Array (1600, 2560, 3)\n",
      "Resize Shape Array (200, 200, 3)\n",
      "\n",
      "Orignal Shape Array (1600, 2560, 3)\n",
      "Resize Shape Array (200, 200, 3)\n",
      "\n",
      "Orignal Shape Array (1200, 1920, 3)\n",
      "Resize Shape Array (200, 200, 3)\n",
      "\n",
      "Orignal Shape Array (1600, 2560, 3)\n",
      "Resize Shape Array (200, 200, 3)\n",
      "\n",
      "Orignal Shape Array (4320, 7680, 3)\n",
      "Resize Shape Array (200, 200, 3)\n",
      "\n",
      "Orignal Shape Array (4320, 7680, 3)\n",
      "Resize Shape Array (200, 200, 3)\n",
      "\n",
      "Orignal Shape Array (1280, 1920, 3)\n",
      "Resize Shape Array (200, 200, 3)\n",
      "\n",
      "Orignal Shape Array (1570, 2560, 3)\n",
      "Resize Shape Array (200, 200, 3)\n",
      "\n",
      "Orignal Shape Array (1600, 2560, 3)\n",
      "Resize Shape Array (200, 200, 3)\n",
      "\n",
      "Orignal Shape Array (1908, 2880, 3)\n",
      "Resize Shape Array (200, 200, 3)\n",
      "\n",
      "Orignal Shape Array (4320, 7680, 3)\n",
      "Resize Shape Array (200, 200, 3)\n",
      "\n",
      "Orignal Shape Array (1660, 2480, 3)\n",
      "Resize Shape Array (200, 200, 3)\n",
      "\n",
      "Orignal Shape Array (1200, 1920, 3)\n",
      "Resize Shape Array (200, 200, 3)\n",
      "\n",
      "\n",
      "Length of Main Array 20\n",
      "\n",
      "\n",
      "Total Array inside Main Array (20, 200, 200, 3)\n"
     ]
    }
   ],
   "source": [
    "import matplotlib.pylab as plt\n",
    "from PIL import Image\n",
    "import numpy as np\n",
    "import os\n",
    "\n",
    "        \n",
    "main_list = []\n",
    "resize_img = 0\n",
    "resize_arry = 0\n",
    "\n",
    "rootDir = 'Photos'\n",
    "\n",
    "for dirName, subdirList, fileList in os.walk(rootDir):\n",
    "    for x in range(0,20):\n",
    "        image = Image.open(dirName+\"\\\\\"+fileList[x])\n",
    "        org_arry = np.array(image)\n",
    "        print(\"\\nOrignal Shape Array\", org_arry.shape)\n",
    "        resize_img = image.resize((200, 200))\n",
    "        resize_arry = np.array(resize_img)\n",
    "        print(\"Resize Shape Array\",resize_arry.shape)\n",
    "        main_list.append(resize_arry)\n",
    "        \n",
    "main_arr= np.array(main_list)\n",
    "print(\"\\n\\nLength of Main Array\" , len(main_list))\n",
    "print(\"\\n\\nTotal Array inside Main Array\" , main_arr.shape)\n"
   ]
  },
  {
   "cell_type": "code",
   "execution_count": 4,
   "metadata": {},
   "outputs": [
    {
     "name": "stdout",
     "output_type": "stream",
     "text": [
      "20\n"
     ]
    }
   ],
   "source": [
    "print(len(fileList))"
   ]
  }
 ],
 "metadata": {
  "kernelspec": {
   "display_name": "Python 3",
   "language": "python",
   "name": "python3"
  },
  "language_info": {
   "codemirror_mode": {
    "name": "ipython",
    "version": 3
   },
   "file_extension": ".py",
   "mimetype": "text/x-python",
   "name": "python",
   "nbconvert_exporter": "python",
   "pygments_lexer": "ipython3",
   "version": "3.7.4"
  }
 },
 "nbformat": 4,
 "nbformat_minor": 2
}
